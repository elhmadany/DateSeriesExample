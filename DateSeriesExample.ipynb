{
 "cells": [
  {
   "cell_type": "markdown",
   "metadata": {},
   "source": [
    "# Import Our Library"
   ]
  },
  {
   "cell_type": "code",
   "execution_count": 1,
   "metadata": {},
   "outputs": [],
   "source": [
    "\n",
    "import pandas as pd\n",
    "import numpy as np\n",
    "from sklearn.model_selection import cross_val_score, train_test_split\n",
    "from sklearn.preprocessing import MinMaxScaler\n",
    "import sklearn.metrics as mc\n",
    "import os\n",
    "\n",
    "# visualization\n",
    "import seaborn as sns\n",
    "import matplotlib.pyplot as plt\n",
    "sns.set() # setting seaborn default for plots\n",
    "%matplotlib inline\n",
    "import tensorflow as tf\n"
   ]
  },
  {
   "cell_type": "markdown",
   "metadata": {},
   "source": [
    "# Load the file data"
   ]
  },
  {
   "cell_type": "code",
   "execution_count": 3,
   "metadata": {},
   "outputs": [],
   "source": [
    "df = pd.read_excel('feature.xlsx',header=1)\n",
    "trainLabel=pd.read_csv('train_label.csv')"
   ]
  },
  {
   "cell_type": "code",
   "execution_count": 4,
   "metadata": {},
   "outputs": [
    {
     "data": {
      "text/html": [
       "<div>\n",
       "<style scoped>\n",
       "    .dataframe tbody tr th:only-of-type {\n",
       "        vertical-align: middle;\n",
       "    }\n",
       "\n",
       "    .dataframe tbody tr th {\n",
       "        vertical-align: top;\n",
       "    }\n",
       "\n",
       "    .dataframe thead th {\n",
       "        text-align: right;\n",
       "    }\n",
       "</style>\n",
       "<table border=\"1\" class=\"dataframe\">\n",
       "  <thead>\n",
       "    <tr style=\"text-align: right;\">\n",
       "      <th></th>\n",
       "      <th>date</th>\n",
       "      <th>136088194</th>\n",
       "      <th>136088202</th>\n",
       "      <th>136088394</th>\n",
       "      <th>136088802</th>\n",
       "      <th>136089546</th>\n",
       "      <th>136110468</th>\n",
       "      <th>136216674</th>\n",
       "      <th>136222202</th>\n",
       "      <th>136222210</th>\n",
       "      <th>...</th>\n",
       "      <th>136225010.4</th>\n",
       "      <th>136675426.4</th>\n",
       "      <th>136675626.4</th>\n",
       "      <th>136676578.4</th>\n",
       "      <th>136676650.4</th>\n",
       "      <th>136676666.4</th>\n",
       "      <th>136676682.4</th>\n",
       "      <th>136676698.4</th>\n",
       "      <th>136676714.4</th>\n",
       "      <th>136676754.4</th>\n",
       "    </tr>\n",
       "  </thead>\n",
       "  <tbody>\n",
       "    <tr>\n",
       "      <th>0</th>\n",
       "      <td>2015-05-03</td>\n",
       "      <td>0</td>\n",
       "      <td>0</td>\n",
       "      <td>0</td>\n",
       "      <td>0</td>\n",
       "      <td>1</td>\n",
       "      <td>504</td>\n",
       "      <td>0</td>\n",
       "      <td>2</td>\n",
       "      <td>8</td>\n",
       "      <td>...</td>\n",
       "      <td>9056.261199</td>\n",
       "      <td>NaN</td>\n",
       "      <td>NaN</td>\n",
       "      <td>NaN</td>\n",
       "      <td>NaN</td>\n",
       "      <td>NaN</td>\n",
       "      <td>NaN</td>\n",
       "      <td>NaN</td>\n",
       "      <td>NaN</td>\n",
       "      <td>NaN</td>\n",
       "    </tr>\n",
       "    <tr>\n",
       "      <th>1</th>\n",
       "      <td>2015-05-04</td>\n",
       "      <td>0</td>\n",
       "      <td>0</td>\n",
       "      <td>0</td>\n",
       "      <td>0</td>\n",
       "      <td>0</td>\n",
       "      <td>2250</td>\n",
       "      <td>0</td>\n",
       "      <td>1</td>\n",
       "      <td>2</td>\n",
       "      <td>...</td>\n",
       "      <td>25402.087770</td>\n",
       "      <td>NaN</td>\n",
       "      <td>NaN</td>\n",
       "      <td>NaN</td>\n",
       "      <td>NaN</td>\n",
       "      <td>NaN</td>\n",
       "      <td>NaN</td>\n",
       "      <td>NaN</td>\n",
       "      <td>NaN</td>\n",
       "      <td>NaN</td>\n",
       "    </tr>\n",
       "    <tr>\n",
       "      <th>2</th>\n",
       "      <td>2015-05-05</td>\n",
       "      <td>0</td>\n",
       "      <td>0</td>\n",
       "      <td>0</td>\n",
       "      <td>0</td>\n",
       "      <td>0</td>\n",
       "      <td>1700</td>\n",
       "      <td>0</td>\n",
       "      <td>2</td>\n",
       "      <td>5</td>\n",
       "      <td>...</td>\n",
       "      <td>13609.724304</td>\n",
       "      <td>NaN</td>\n",
       "      <td>NaN</td>\n",
       "      <td>NaN</td>\n",
       "      <td>NaN</td>\n",
       "      <td>NaN</td>\n",
       "      <td>NaN</td>\n",
       "      <td>NaN</td>\n",
       "      <td>NaN</td>\n",
       "      <td>NaN</td>\n",
       "    </tr>\n",
       "    <tr>\n",
       "      <th>3</th>\n",
       "      <td>2015-05-06</td>\n",
       "      <td>0</td>\n",
       "      <td>0</td>\n",
       "      <td>0</td>\n",
       "      <td>0</td>\n",
       "      <td>0</td>\n",
       "      <td>2261</td>\n",
       "      <td>0</td>\n",
       "      <td>10</td>\n",
       "      <td>7</td>\n",
       "      <td>...</td>\n",
       "      <td>26122.640408</td>\n",
       "      <td>NaN</td>\n",
       "      <td>NaN</td>\n",
       "      <td>NaN</td>\n",
       "      <td>NaN</td>\n",
       "      <td>NaN</td>\n",
       "      <td>NaN</td>\n",
       "      <td>NaN</td>\n",
       "      <td>NaN</td>\n",
       "      <td>NaN</td>\n",
       "    </tr>\n",
       "    <tr>\n",
       "      <th>4</th>\n",
       "      <td>2015-05-07</td>\n",
       "      <td>0</td>\n",
       "      <td>0</td>\n",
       "      <td>0</td>\n",
       "      <td>0</td>\n",
       "      <td>0</td>\n",
       "      <td>2950</td>\n",
       "      <td>0</td>\n",
       "      <td>5</td>\n",
       "      <td>8</td>\n",
       "      <td>...</td>\n",
       "      <td>25499.201836</td>\n",
       "      <td>NaN</td>\n",
       "      <td>NaN</td>\n",
       "      <td>NaN</td>\n",
       "      <td>NaN</td>\n",
       "      <td>NaN</td>\n",
       "      <td>NaN</td>\n",
       "      <td>NaN</td>\n",
       "      <td>NaN</td>\n",
       "      <td>NaN</td>\n",
       "    </tr>\n",
       "  </tbody>\n",
       "</table>\n",
       "<p>5 rows × 131 columns</p>\n",
       "</div>"
      ],
      "text/plain": [
       "        date  136088194  136088202  136088394  136088802  136089546  \\\n",
       "0 2015-05-03          0          0          0          0          1   \n",
       "1 2015-05-04          0          0          0          0          0   \n",
       "2 2015-05-05          0          0          0          0          0   \n",
       "3 2015-05-06          0          0          0          0          0   \n",
       "4 2015-05-07          0          0          0          0          0   \n",
       "\n",
       "   136110468  136216674  136222202  136222210     ...        136225010.4  \\\n",
       "0        504          0          2          8     ...        9056.261199   \n",
       "1       2250          0          1          2     ...       25402.087770   \n",
       "2       1700          0          2          5     ...       13609.724304   \n",
       "3       2261          0         10          7     ...       26122.640408   \n",
       "4       2950          0          5          8     ...       25499.201836   \n",
       "\n",
       "   136675426.4  136675626.4  136676578.4  136676650.4  136676666.4  \\\n",
       "0          NaN          NaN          NaN          NaN          NaN   \n",
       "1          NaN          NaN          NaN          NaN          NaN   \n",
       "2          NaN          NaN          NaN          NaN          NaN   \n",
       "3          NaN          NaN          NaN          NaN          NaN   \n",
       "4          NaN          NaN          NaN          NaN          NaN   \n",
       "\n",
       "   136676682.4  136676698.4  136676714.4  136676754.4  \n",
       "0          NaN          NaN          NaN          NaN  \n",
       "1          NaN          NaN          NaN          NaN  \n",
       "2          NaN          NaN          NaN          NaN  \n",
       "3          NaN          NaN          NaN          NaN  \n",
       "4          NaN          NaN          NaN          NaN  \n",
       "\n",
       "[5 rows x 131 columns]"
      ]
     },
     "execution_count": 4,
     "metadata": {},
     "output_type": "execute_result"
    }
   ],
   "source": [
    "df.head(5)"
   ]
  },
  {
   "cell_type": "code",
   "execution_count": 5,
   "metadata": {},
   "outputs": [
    {
     "data": {
      "text/plain": [
       "Index([       'date',     136088194,     136088202,     136088394,\n",
       "           136088802,     136089546,     136110468,     136216674,\n",
       "           136222202,     136222210,\n",
       "       ...\n",
       "       '136225010.4', '136675426.4', '136675626.4', '136676578.4',\n",
       "       '136676650.4', '136676666.4', '136676682.4', '136676698.4',\n",
       "       '136676714.4', '136676754.4'],\n",
       "      dtype='object', length=131)"
      ]
     },
     "execution_count": 5,
     "metadata": {},
     "output_type": "execute_result"
    }
   ],
   "source": [
    "df.columns"
   ]
  },
  {
   "cell_type": "code",
   "execution_count": 6,
   "metadata": {},
   "outputs": [
    {
     "data": {
      "text/html": [
       "<div>\n",
       "<style scoped>\n",
       "    .dataframe tbody tr th:only-of-type {\n",
       "        vertical-align: middle;\n",
       "    }\n",
       "\n",
       "    .dataframe tbody tr th {\n",
       "        vertical-align: top;\n",
       "    }\n",
       "\n",
       "    .dataframe thead th {\n",
       "        text-align: right;\n",
       "    }\n",
       "</style>\n",
       "<table border=\"1\" class=\"dataframe\">\n",
       "  <thead>\n",
       "    <tr style=\"text-align: right;\">\n",
       "      <th></th>\n",
       "      <th>date</th>\n",
       "      <th>label</th>\n",
       "    </tr>\n",
       "  </thead>\n",
       "  <tbody>\n",
       "    <tr>\n",
       "      <th>0</th>\n",
       "      <td>3/5/2015</td>\n",
       "      <td>NaN</td>\n",
       "    </tr>\n",
       "    <tr>\n",
       "      <th>1</th>\n",
       "      <td>4/5/2015</td>\n",
       "      <td>0.0</td>\n",
       "    </tr>\n",
       "    <tr>\n",
       "      <th>2</th>\n",
       "      <td>5/5/2015</td>\n",
       "      <td>0.0</td>\n",
       "    </tr>\n",
       "    <tr>\n",
       "      <th>3</th>\n",
       "      <td>6/5/2015</td>\n",
       "      <td>0.0</td>\n",
       "    </tr>\n",
       "    <tr>\n",
       "      <th>4</th>\n",
       "      <td>7/5/2015</td>\n",
       "      <td>0.0</td>\n",
       "    </tr>\n",
       "  </tbody>\n",
       "</table>\n",
       "</div>"
      ],
      "text/plain": [
       "       date  label\n",
       "0  3/5/2015    NaN\n",
       "1  4/5/2015    0.0\n",
       "2  5/5/2015    0.0\n",
       "3  6/5/2015    0.0\n",
       "4  7/5/2015    0.0"
      ]
     },
     "execution_count": 6,
     "metadata": {},
     "output_type": "execute_result"
    }
   ],
   "source": [
    "trainLabel.head()"
   ]
  },
  {
   "cell_type": "code",
   "execution_count": 7,
   "metadata": {},
   "outputs": [
    {
     "data": {
      "text/plain": [
       "date     514\n",
       "label    513\n",
       "dtype: int64"
      ]
     },
     "execution_count": 7,
     "metadata": {},
     "output_type": "execute_result"
    }
   ],
   "source": [
    "trainLabel.count()"
   ]
  },
  {
   "cell_type": "code",
   "execution_count": 8,
   "metadata": {},
   "outputs": [
    {
     "name": "stdout",
     "output_type": "stream",
     "text": [
      "<class 'pandas.core.frame.DataFrame'>\n",
      "Int64Index: 983 entries, 0 to 982\n",
      "Columns: 131 entries, date to 136676754.4\n",
      "dtypes: datetime64[ns](1), float64(103), int64(26), object(1)\n",
      "memory usage: 1013.7+ KB\n"
     ]
    }
   ],
   "source": [
    "df.info()"
   ]
  },
  {
   "cell_type": "code",
   "execution_count": 9,
   "metadata": {},
   "outputs": [
    {
     "data": {
      "text/html": [
       "<div>\n",
       "<style scoped>\n",
       "    .dataframe tbody tr th:only-of-type {\n",
       "        vertical-align: middle;\n",
       "    }\n",
       "\n",
       "    .dataframe tbody tr th {\n",
       "        vertical-align: top;\n",
       "    }\n",
       "\n",
       "    .dataframe thead th {\n",
       "        text-align: right;\n",
       "    }\n",
       "</style>\n",
       "<table border=\"1\" class=\"dataframe\">\n",
       "  <thead>\n",
       "    <tr style=\"text-align: right;\">\n",
       "      <th></th>\n",
       "      <th>136088194</th>\n",
       "      <th>136088202</th>\n",
       "      <th>136088394</th>\n",
       "      <th>136088802</th>\n",
       "      <th>136089546</th>\n",
       "      <th>136110468</th>\n",
       "      <th>136216674</th>\n",
       "      <th>136222202</th>\n",
       "      <th>136222210</th>\n",
       "      <th>136222234</th>\n",
       "      <th>...</th>\n",
       "      <th>136225010.4</th>\n",
       "      <th>136675426.4</th>\n",
       "      <th>136675626.4</th>\n",
       "      <th>136676578.4</th>\n",
       "      <th>136676650.4</th>\n",
       "      <th>136676666.4</th>\n",
       "      <th>136676682.4</th>\n",
       "      <th>136676698.4</th>\n",
       "      <th>136676714.4</th>\n",
       "      <th>136676754.4</th>\n",
       "    </tr>\n",
       "  </thead>\n",
       "  <tbody>\n",
       "    <tr>\n",
       "      <th>count</th>\n",
       "      <td>983.000000</td>\n",
       "      <td>983.000000</td>\n",
       "      <td>983.000000</td>\n",
       "      <td>983.000000</td>\n",
       "      <td>983.000000</td>\n",
       "      <td>983.000000</td>\n",
       "      <td>983.000000</td>\n",
       "      <td>983.000000</td>\n",
       "      <td>983.000000</td>\n",
       "      <td>983.000000</td>\n",
       "      <td>...</td>\n",
       "      <td>447.000000</td>\n",
       "      <td>11.000000</td>\n",
       "      <td>0.0</td>\n",
       "      <td>7.000000</td>\n",
       "      <td>11.000000</td>\n",
       "      <td>38.000000</td>\n",
       "      <td>40.000000</td>\n",
       "      <td>46.000000</td>\n",
       "      <td>50.000000</td>\n",
       "      <td>129.000000</td>\n",
       "    </tr>\n",
       "    <tr>\n",
       "      <th>mean</th>\n",
       "      <td>1.801628</td>\n",
       "      <td>0.567650</td>\n",
       "      <td>0.033571</td>\n",
       "      <td>0.468973</td>\n",
       "      <td>0.149542</td>\n",
       "      <td>593.253306</td>\n",
       "      <td>0.011190</td>\n",
       "      <td>4.499491</td>\n",
       "      <td>5.158698</td>\n",
       "      <td>0.102747</td>\n",
       "      <td>...</td>\n",
       "      <td>21501.088761</td>\n",
       "      <td>9276.242498</td>\n",
       "      <td>NaN</td>\n",
       "      <td>14298.442241</td>\n",
       "      <td>2861.203915</td>\n",
       "      <td>13988.284805</td>\n",
       "      <td>14244.256825</td>\n",
       "      <td>14332.896055</td>\n",
       "      <td>17975.277266</td>\n",
       "      <td>19609.738290</td>\n",
       "    </tr>\n",
       "    <tr>\n",
       "      <th>std</th>\n",
       "      <td>6.705343</td>\n",
       "      <td>11.679671</td>\n",
       "      <td>0.930307</td>\n",
       "      <td>3.040595</td>\n",
       "      <td>0.582341</td>\n",
       "      <td>3139.150509</td>\n",
       "      <td>0.264838</td>\n",
       "      <td>6.166375</td>\n",
       "      <td>9.725627</td>\n",
       "      <td>0.630700</td>\n",
       "      <td>...</td>\n",
       "      <td>6357.792678</td>\n",
       "      <td>9854.359214</td>\n",
       "      <td>NaN</td>\n",
       "      <td>11431.755718</td>\n",
       "      <td>5170.563133</td>\n",
       "      <td>8626.450595</td>\n",
       "      <td>8783.676041</td>\n",
       "      <td>8625.009447</td>\n",
       "      <td>10803.395306</td>\n",
       "      <td>6791.399411</td>\n",
       "    </tr>\n",
       "    <tr>\n",
       "      <th>min</th>\n",
       "      <td>0.000000</td>\n",
       "      <td>0.000000</td>\n",
       "      <td>0.000000</td>\n",
       "      <td>0.000000</td>\n",
       "      <td>0.000000</td>\n",
       "      <td>0.000000</td>\n",
       "      <td>0.000000</td>\n",
       "      <td>0.000000</td>\n",
       "      <td>0.000000</td>\n",
       "      <td>0.000000</td>\n",
       "      <td>...</td>\n",
       "      <td>0.705380</td>\n",
       "      <td>38.405295</td>\n",
       "      <td>NaN</td>\n",
       "      <td>425.067406</td>\n",
       "      <td>20.983327</td>\n",
       "      <td>1261.217798</td>\n",
       "      <td>865.889170</td>\n",
       "      <td>149.092812</td>\n",
       "      <td>88.538833</td>\n",
       "      <td>717.884695</td>\n",
       "    </tr>\n",
       "    <tr>\n",
       "      <th>25%</th>\n",
       "      <td>0.000000</td>\n",
       "      <td>0.000000</td>\n",
       "      <td>0.000000</td>\n",
       "      <td>0.000000</td>\n",
       "      <td>0.000000</td>\n",
       "      <td>11.000000</td>\n",
       "      <td>0.000000</td>\n",
       "      <td>2.000000</td>\n",
       "      <td>0.000000</td>\n",
       "      <td>0.000000</td>\n",
       "      <td>...</td>\n",
       "      <td>17740.949767</td>\n",
       "      <td>625.503204</td>\n",
       "      <td>NaN</td>\n",
       "      <td>7649.375712</td>\n",
       "      <td>49.797046</td>\n",
       "      <td>5861.044529</td>\n",
       "      <td>7853.859023</td>\n",
       "      <td>7145.035479</td>\n",
       "      <td>9100.182210</td>\n",
       "      <td>15139.849784</td>\n",
       "    </tr>\n",
       "    <tr>\n",
       "      <th>50%</th>\n",
       "      <td>0.000000</td>\n",
       "      <td>0.000000</td>\n",
       "      <td>0.000000</td>\n",
       "      <td>0.000000</td>\n",
       "      <td>0.000000</td>\n",
       "      <td>21.000000</td>\n",
       "      <td>0.000000</td>\n",
       "      <td>3.000000</td>\n",
       "      <td>2.000000</td>\n",
       "      <td>0.000000</td>\n",
       "      <td>...</td>\n",
       "      <td>22852.798511</td>\n",
       "      <td>5092.739511</td>\n",
       "      <td>NaN</td>\n",
       "      <td>12447.336848</td>\n",
       "      <td>167.069185</td>\n",
       "      <td>13959.512501</td>\n",
       "      <td>14912.032919</td>\n",
       "      <td>13919.803616</td>\n",
       "      <td>17544.791642</td>\n",
       "      <td>20655.670931</td>\n",
       "    </tr>\n",
       "    <tr>\n",
       "      <th>75%</th>\n",
       "      <td>1.000000</td>\n",
       "      <td>0.000000</td>\n",
       "      <td>0.000000</td>\n",
       "      <td>0.000000</td>\n",
       "      <td>0.000000</td>\n",
       "      <td>45.500000</td>\n",
       "      <td>0.000000</td>\n",
       "      <td>5.000000</td>\n",
       "      <td>7.000000</td>\n",
       "      <td>0.000000</td>\n",
       "      <td>...</td>\n",
       "      <td>25502.372377</td>\n",
       "      <td>16844.472453</td>\n",
       "      <td>NaN</td>\n",
       "      <td>18455.789345</td>\n",
       "      <td>2228.148483</td>\n",
       "      <td>20846.103258</td>\n",
       "      <td>21075.838193</td>\n",
       "      <td>22159.792132</td>\n",
       "      <td>26862.753264</td>\n",
       "      <td>24271.551851</td>\n",
       "    </tr>\n",
       "    <tr>\n",
       "      <th>max</th>\n",
       "      <td>89.000000</td>\n",
       "      <td>364.000000</td>\n",
       "      <td>29.000000</td>\n",
       "      <td>40.000000</td>\n",
       "      <td>6.000000</td>\n",
       "      <td>67425.000000</td>\n",
       "      <td>8.000000</td>\n",
       "      <td>67.000000</td>\n",
       "      <td>190.000000</td>\n",
       "      <td>13.000000</td>\n",
       "      <td>...</td>\n",
       "      <td>40498.274760</td>\n",
       "      <td>26490.226429</td>\n",
       "      <td>NaN</td>\n",
       "      <td>35006.361316</td>\n",
       "      <td>15250.921875</td>\n",
       "      <td>31232.119085</td>\n",
       "      <td>35097.775546</td>\n",
       "      <td>29600.736779</td>\n",
       "      <td>44234.371299</td>\n",
       "      <td>33979.509589</td>\n",
       "    </tr>\n",
       "  </tbody>\n",
       "</table>\n",
       "<p>8 rows × 129 columns</p>\n",
       "</div>"
      ],
      "text/plain": [
       "        136088194   136088202   136088394   136088802   136089546  \\\n",
       "count  983.000000  983.000000  983.000000  983.000000  983.000000   \n",
       "mean     1.801628    0.567650    0.033571    0.468973    0.149542   \n",
       "std      6.705343   11.679671    0.930307    3.040595    0.582341   \n",
       "min      0.000000    0.000000    0.000000    0.000000    0.000000   \n",
       "25%      0.000000    0.000000    0.000000    0.000000    0.000000   \n",
       "50%      0.000000    0.000000    0.000000    0.000000    0.000000   \n",
       "75%      1.000000    0.000000    0.000000    0.000000    0.000000   \n",
       "max     89.000000  364.000000   29.000000   40.000000    6.000000   \n",
       "\n",
       "          136110468   136216674   136222202   136222210   136222234  \\\n",
       "count    983.000000  983.000000  983.000000  983.000000  983.000000   \n",
       "mean     593.253306    0.011190    4.499491    5.158698    0.102747   \n",
       "std     3139.150509    0.264838    6.166375    9.725627    0.630700   \n",
       "min        0.000000    0.000000    0.000000    0.000000    0.000000   \n",
       "25%       11.000000    0.000000    2.000000    0.000000    0.000000   \n",
       "50%       21.000000    0.000000    3.000000    2.000000    0.000000   \n",
       "75%       45.500000    0.000000    5.000000    7.000000    0.000000   \n",
       "max    67425.000000    8.000000   67.000000  190.000000   13.000000   \n",
       "\n",
       "           ...        136225010.4   136675426.4  136675626.4   136676578.4  \\\n",
       "count      ...         447.000000     11.000000          0.0      7.000000   \n",
       "mean       ...       21501.088761   9276.242498          NaN  14298.442241   \n",
       "std        ...        6357.792678   9854.359214          NaN  11431.755718   \n",
       "min        ...           0.705380     38.405295          NaN    425.067406   \n",
       "25%        ...       17740.949767    625.503204          NaN   7649.375712   \n",
       "50%        ...       22852.798511   5092.739511          NaN  12447.336848   \n",
       "75%        ...       25502.372377  16844.472453          NaN  18455.789345   \n",
       "max        ...       40498.274760  26490.226429          NaN  35006.361316   \n",
       "\n",
       "        136676650.4   136676666.4   136676682.4   136676698.4   136676714.4  \\\n",
       "count     11.000000     38.000000     40.000000     46.000000     50.000000   \n",
       "mean    2861.203915  13988.284805  14244.256825  14332.896055  17975.277266   \n",
       "std     5170.563133   8626.450595   8783.676041   8625.009447  10803.395306   \n",
       "min       20.983327   1261.217798    865.889170    149.092812     88.538833   \n",
       "25%       49.797046   5861.044529   7853.859023   7145.035479   9100.182210   \n",
       "50%      167.069185  13959.512501  14912.032919  13919.803616  17544.791642   \n",
       "75%     2228.148483  20846.103258  21075.838193  22159.792132  26862.753264   \n",
       "max    15250.921875  31232.119085  35097.775546  29600.736779  44234.371299   \n",
       "\n",
       "        136676754.4  \n",
       "count    129.000000  \n",
       "mean   19609.738290  \n",
       "std     6791.399411  \n",
       "min      717.884695  \n",
       "25%    15139.849784  \n",
       "50%    20655.670931  \n",
       "75%    24271.551851  \n",
       "max    33979.509589  \n",
       "\n",
       "[8 rows x 129 columns]"
      ]
     },
     "execution_count": 9,
     "metadata": {},
     "output_type": "execute_result"
    }
   ],
   "source": [
    "df.describe()"
   ]
  },
  {
   "cell_type": "code",
   "execution_count": 10,
   "metadata": {},
   "outputs": [
    {
     "data": {
      "text/plain": [
       "date             0\n",
       "136088194        0\n",
       "136088202        0\n",
       "136088394        0\n",
       "136088802        0\n",
       "136089546        0\n",
       "136110468        0\n",
       "136216674        0\n",
       "136222202        0\n",
       "136222210        0\n",
       "136222234        0\n",
       "136222250        0\n",
       "136222882        0\n",
       "136223186        0\n",
       "136224578        0\n",
       "136224586        0\n",
       "136224978        0\n",
       "136225010        0\n",
       "136675426        0\n",
       "136675626        0\n",
       "136676578        0\n",
       "136676650        0\n",
       "136676666        0\n",
       "136676682        0\n",
       "136676698        0\n",
       "136676714        0\n",
       "136676754        0\n",
       "136088194.1    891\n",
       "136088202.1    964\n",
       "136088394.1    982\n",
       "              ... \n",
       "136676682.3    943\n",
       "136676698.3    937\n",
       "136676714.3    933\n",
       "136676754.3    854\n",
       "136088194.4    891\n",
       "136088202.4    964\n",
       "136088394.4    982\n",
       "136088802.4    957\n",
       "136089546.4    978\n",
       "136110468.4     80\n",
       "136216674.4    982\n",
       "136222202.4    730\n",
       "136222210.4    651\n",
       "136222234.4    980\n",
       "136222250.4    982\n",
       "136222882.4    957\n",
       "136223186.4    909\n",
       "136224578.4    512\n",
       "136224586.4    557\n",
       "136224978.4    919\n",
       "136225010.4    536\n",
       "136675426.4    972\n",
       "136675626.4    983\n",
       "136676578.4    976\n",
       "136676650.4    972\n",
       "136676666.4    945\n",
       "136676682.4    943\n",
       "136676698.4    937\n",
       "136676714.4    933\n",
       "136676754.4    854\n",
       "Length: 131, dtype: int64"
      ]
     },
     "execution_count": 10,
     "metadata": {},
     "output_type": "execute_result"
    }
   ],
   "source": [
    "df.isnull().sum()"
   ]
  },
  {
   "cell_type": "markdown",
   "metadata": {},
   "source": [
    "# preprocessing the data :\n",
    "and here I traying to decrese the sparsity and NaN values and dimention redution as well by adding columns contain same feature for each item"
   ]
  },
  {
   "cell_type": "code",
   "execution_count": 11,
   "metadata": {},
   "outputs": [],
   "source": [
    "df['count']= df.iloc[:, 1:26].sum(axis=1)"
   ]
  },
  {
   "cell_type": "code",
   "execution_count": 12,
   "metadata": {},
   "outputs": [],
   "source": [
    "df['Max']=df.iloc[:, 27:52].sum(axis=1)"
   ]
  },
  {
   "cell_type": "code",
   "execution_count": 13,
   "metadata": {},
   "outputs": [],
   "source": [
    "df['Min']=df.iloc[:, 53:78].sum(axis=1)"
   ]
  },
  {
   "cell_type": "code",
   "execution_count": 14,
   "metadata": {},
   "outputs": [],
   "source": [
    "df['Mean']=df.iloc[:, 79:104].sum(axis=1)"
   ]
  },
  {
   "cell_type": "code",
   "execution_count": 15,
   "metadata": {},
   "outputs": [],
   "source": [
    "df['Std']=df.iloc[:, 105:130].sum(axis=1)"
   ]
  },
  {
   "cell_type": "code",
   "execution_count": 16,
   "metadata": {},
   "outputs": [],
   "source": [
    "df1=df[['count','Max','Min','Mean','Std']]"
   ]
  },
  {
   "cell_type": "code",
   "execution_count": 17,
   "metadata": {},
   "outputs": [
    {
     "data": {
      "text/html": [
       "<div>\n",
       "<style scoped>\n",
       "    .dataframe tbody tr th:only-of-type {\n",
       "        vertical-align: middle;\n",
       "    }\n",
       "\n",
       "    .dataframe tbody tr th {\n",
       "        vertical-align: top;\n",
       "    }\n",
       "\n",
       "    .dataframe thead th {\n",
       "        text-align: right;\n",
       "    }\n",
       "</style>\n",
       "<table border=\"1\" class=\"dataframe\">\n",
       "  <thead>\n",
       "    <tr style=\"text-align: right;\">\n",
       "      <th></th>\n",
       "      <th>count</th>\n",
       "      <th>Max</th>\n",
       "      <th>Min</th>\n",
       "      <th>Mean</th>\n",
       "      <th>Std</th>\n",
       "    </tr>\n",
       "  </thead>\n",
       "  <tbody>\n",
       "    <tr>\n",
       "      <th>0</th>\n",
       "      <td>714</td>\n",
       "      <td>337487.0</td>\n",
       "      <td>239483.0</td>\n",
       "      <td>277744.926587</td>\n",
       "      <td>28700.847946</td>\n",
       "    </tr>\n",
       "    <tr>\n",
       "      <th>1</th>\n",
       "      <td>3150</td>\n",
       "      <td>164622.0</td>\n",
       "      <td>14382.0</td>\n",
       "      <td>111378.048728</td>\n",
       "      <td>50784.202971</td>\n",
       "    </tr>\n",
       "    <tr>\n",
       "      <th>2</th>\n",
       "      <td>4135</td>\n",
       "      <td>320118.0</td>\n",
       "      <td>39471.0</td>\n",
       "      <td>162379.507240</td>\n",
       "      <td>76152.484138</td>\n",
       "    </tr>\n",
       "    <tr>\n",
       "      <th>3</th>\n",
       "      <td>2662</td>\n",
       "      <td>444373.0</td>\n",
       "      <td>48730.0</td>\n",
       "      <td>307344.936238</td>\n",
       "      <td>144359.255003</td>\n",
       "    </tr>\n",
       "    <tr>\n",
       "      <th>4</th>\n",
       "      <td>3439</td>\n",
       "      <td>423067.0</td>\n",
       "      <td>142979.0</td>\n",
       "      <td>326017.344951</td>\n",
       "      <td>94311.840536</td>\n",
       "    </tr>\n",
       "  </tbody>\n",
       "</table>\n",
       "</div>"
      ],
      "text/plain": [
       "   count       Max       Min           Mean            Std\n",
       "0    714  337487.0  239483.0  277744.926587   28700.847946\n",
       "1   3150  164622.0   14382.0  111378.048728   50784.202971\n",
       "2   4135  320118.0   39471.0  162379.507240   76152.484138\n",
       "3   2662  444373.0   48730.0  307344.936238  144359.255003\n",
       "4   3439  423067.0  142979.0  326017.344951   94311.840536"
      ]
     },
     "execution_count": 17,
     "metadata": {},
     "output_type": "execute_result"
    }
   ],
   "source": [
    "df1.head()"
   ]
  },
  {
   "cell_type": "code",
   "execution_count": 18,
   "metadata": {},
   "outputs": [
    {
     "data": {
      "text/plain": [
       "count    0\n",
       "Max      0\n",
       "Min      0\n",
       "Mean     0\n",
       "Std      0\n",
       "dtype: int64"
      ]
     },
     "execution_count": 18,
     "metadata": {},
     "output_type": "execute_result"
    }
   ],
   "source": [
    "df1.isnull().sum()\n"
   ]
  },
  {
   "cell_type": "code",
   "execution_count": 19,
   "metadata": {},
   "outputs": [],
   "source": [
    "df1=pd.concat([df1,trainLabel['label']],axis=1)"
   ]
  },
  {
   "cell_type": "code",
   "execution_count": 20,
   "metadata": {},
   "outputs": [
    {
     "data": {
      "text/html": [
       "<div>\n",
       "<style scoped>\n",
       "    .dataframe tbody tr th:only-of-type {\n",
       "        vertical-align: middle;\n",
       "    }\n",
       "\n",
       "    .dataframe tbody tr th {\n",
       "        vertical-align: top;\n",
       "    }\n",
       "\n",
       "    .dataframe thead th {\n",
       "        text-align: right;\n",
       "    }\n",
       "</style>\n",
       "<table border=\"1\" class=\"dataframe\">\n",
       "  <thead>\n",
       "    <tr style=\"text-align: right;\">\n",
       "      <th></th>\n",
       "      <th>count</th>\n",
       "      <th>Max</th>\n",
       "      <th>Min</th>\n",
       "      <th>Mean</th>\n",
       "      <th>Std</th>\n",
       "      <th>label</th>\n",
       "    </tr>\n",
       "  </thead>\n",
       "  <tbody>\n",
       "    <tr>\n",
       "      <th>0</th>\n",
       "      <td>714</td>\n",
       "      <td>337487.0</td>\n",
       "      <td>239483.0</td>\n",
       "      <td>277744.926587</td>\n",
       "      <td>28700.847946</td>\n",
       "      <td>NaN</td>\n",
       "    </tr>\n",
       "    <tr>\n",
       "      <th>1</th>\n",
       "      <td>3150</td>\n",
       "      <td>164622.0</td>\n",
       "      <td>14382.0</td>\n",
       "      <td>111378.048728</td>\n",
       "      <td>50784.202971</td>\n",
       "      <td>0.0</td>\n",
       "    </tr>\n",
       "    <tr>\n",
       "      <th>2</th>\n",
       "      <td>4135</td>\n",
       "      <td>320118.0</td>\n",
       "      <td>39471.0</td>\n",
       "      <td>162379.507240</td>\n",
       "      <td>76152.484138</td>\n",
       "      <td>0.0</td>\n",
       "    </tr>\n",
       "    <tr>\n",
       "      <th>3</th>\n",
       "      <td>2662</td>\n",
       "      <td>444373.0</td>\n",
       "      <td>48730.0</td>\n",
       "      <td>307344.936238</td>\n",
       "      <td>144359.255003</td>\n",
       "      <td>0.0</td>\n",
       "    </tr>\n",
       "    <tr>\n",
       "      <th>4</th>\n",
       "      <td>3439</td>\n",
       "      <td>423067.0</td>\n",
       "      <td>142979.0</td>\n",
       "      <td>326017.344951</td>\n",
       "      <td>94311.840536</td>\n",
       "      <td>0.0</td>\n",
       "    </tr>\n",
       "  </tbody>\n",
       "</table>\n",
       "</div>"
      ],
      "text/plain": [
       "   count       Max       Min           Mean            Std  label\n",
       "0    714  337487.0  239483.0  277744.926587   28700.847946    NaN\n",
       "1   3150  164622.0   14382.0  111378.048728   50784.202971    0.0\n",
       "2   4135  320118.0   39471.0  162379.507240   76152.484138    0.0\n",
       "3   2662  444373.0   48730.0  307344.936238  144359.255003    0.0\n",
       "4   3439  423067.0  142979.0  326017.344951   94311.840536    0.0"
      ]
     },
     "execution_count": 20,
     "metadata": {},
     "output_type": "execute_result"
    }
   ],
   "source": [
    "df1.head()"
   ]
  },
  {
   "cell_type": "code",
   "execution_count": null,
   "metadata": {},
   "outputs": [],
   "source": []
  },
  {
   "cell_type": "code",
   "execution_count": 21,
   "metadata": {},
   "outputs": [
    {
     "data": {
      "text/html": [
       "<div>\n",
       "<style scoped>\n",
       "    .dataframe tbody tr th:only-of-type {\n",
       "        vertical-align: middle;\n",
       "    }\n",
       "\n",
       "    .dataframe tbody tr th {\n",
       "        vertical-align: top;\n",
       "    }\n",
       "\n",
       "    .dataframe thead th {\n",
       "        text-align: right;\n",
       "    }\n",
       "</style>\n",
       "<table border=\"1\" class=\"dataframe\">\n",
       "  <thead>\n",
       "    <tr style=\"text-align: right;\">\n",
       "      <th></th>\n",
       "      <th>count</th>\n",
       "      <th>Max</th>\n",
       "      <th>Min</th>\n",
       "      <th>Mean</th>\n",
       "      <th>Std</th>\n",
       "      <th>label</th>\n",
       "    </tr>\n",
       "  </thead>\n",
       "  <tbody>\n",
       "    <tr>\n",
       "      <th>973</th>\n",
       "      <td>68</td>\n",
       "      <td>160897.0</td>\n",
       "      <td>24933.0</td>\n",
       "      <td>105046.455357</td>\n",
       "      <td>47695.290190</td>\n",
       "      <td>NaN</td>\n",
       "    </tr>\n",
       "    <tr>\n",
       "      <th>974</th>\n",
       "      <td>52</td>\n",
       "      <td>169216.0</td>\n",
       "      <td>39460.0</td>\n",
       "      <td>96637.354167</td>\n",
       "      <td>43051.108528</td>\n",
       "      <td>NaN</td>\n",
       "    </tr>\n",
       "    <tr>\n",
       "      <th>975</th>\n",
       "      <td>52</td>\n",
       "      <td>336016.0</td>\n",
       "      <td>54302.0</td>\n",
       "      <td>213120.376190</td>\n",
       "      <td>100487.648630</td>\n",
       "      <td>NaN</td>\n",
       "    </tr>\n",
       "    <tr>\n",
       "      <th>976</th>\n",
       "      <td>42</td>\n",
       "      <td>217139.0</td>\n",
       "      <td>119701.0</td>\n",
       "      <td>156680.403509</td>\n",
       "      <td>39324.987108</td>\n",
       "      <td>NaN</td>\n",
       "    </tr>\n",
       "    <tr>\n",
       "      <th>977</th>\n",
       "      <td>75</td>\n",
       "      <td>257974.0</td>\n",
       "      <td>70030.0</td>\n",
       "      <td>168088.031566</td>\n",
       "      <td>64431.357165</td>\n",
       "      <td>NaN</td>\n",
       "    </tr>\n",
       "    <tr>\n",
       "      <th>978</th>\n",
       "      <td>94</td>\n",
       "      <td>342706.0</td>\n",
       "      <td>120999.0</td>\n",
       "      <td>280316.565520</td>\n",
       "      <td>79978.132323</td>\n",
       "      <td>NaN</td>\n",
       "    </tr>\n",
       "    <tr>\n",
       "      <th>979</th>\n",
       "      <td>96</td>\n",
       "      <td>273233.0</td>\n",
       "      <td>72204.0</td>\n",
       "      <td>136822.851067</td>\n",
       "      <td>76829.831588</td>\n",
       "      <td>NaN</td>\n",
       "    </tr>\n",
       "    <tr>\n",
       "      <th>980</th>\n",
       "      <td>36</td>\n",
       "      <td>180713.0</td>\n",
       "      <td>52548.0</td>\n",
       "      <td>107552.171429</td>\n",
       "      <td>54213.859710</td>\n",
       "      <td>NaN</td>\n",
       "    </tr>\n",
       "    <tr>\n",
       "      <th>981</th>\n",
       "      <td>82</td>\n",
       "      <td>455690.0</td>\n",
       "      <td>148033.0</td>\n",
       "      <td>339087.967811</td>\n",
       "      <td>109715.578579</td>\n",
       "      <td>NaN</td>\n",
       "    </tr>\n",
       "    <tr>\n",
       "      <th>982</th>\n",
       "      <td>68</td>\n",
       "      <td>267494.0</td>\n",
       "      <td>53814.0</td>\n",
       "      <td>156531.749206</td>\n",
       "      <td>86545.210567</td>\n",
       "      <td>NaN</td>\n",
       "    </tr>\n",
       "  </tbody>\n",
       "</table>\n",
       "</div>"
      ],
      "text/plain": [
       "     count       Max       Min           Mean            Std  label\n",
       "973     68  160897.0   24933.0  105046.455357   47695.290190    NaN\n",
       "974     52  169216.0   39460.0   96637.354167   43051.108528    NaN\n",
       "975     52  336016.0   54302.0  213120.376190  100487.648630    NaN\n",
       "976     42  217139.0  119701.0  156680.403509   39324.987108    NaN\n",
       "977     75  257974.0   70030.0  168088.031566   64431.357165    NaN\n",
       "978     94  342706.0  120999.0  280316.565520   79978.132323    NaN\n",
       "979     96  273233.0   72204.0  136822.851067   76829.831588    NaN\n",
       "980     36  180713.0   52548.0  107552.171429   54213.859710    NaN\n",
       "981     82  455690.0  148033.0  339087.967811  109715.578579    NaN\n",
       "982     68  267494.0   53814.0  156531.749206   86545.210567    NaN"
      ]
     },
     "execution_count": 21,
     "metadata": {},
     "output_type": "execute_result"
    }
   ],
   "source": [
    "df1.tail(10)"
   ]
  },
  {
   "cell_type": "markdown",
   "metadata": {},
   "source": [
    "# Divide our data into train and test"
   ]
  },
  {
   "cell_type": "code",
   "execution_count": 22,
   "metadata": {},
   "outputs": [],
   "source": [
    "trainData=df1.iloc[:515,:]"
   ]
  },
  {
   "cell_type": "code",
   "execution_count": 23,
   "metadata": {},
   "outputs": [
    {
     "data": {
      "text/html": [
       "<div>\n",
       "<style scoped>\n",
       "    .dataframe tbody tr th:only-of-type {\n",
       "        vertical-align: middle;\n",
       "    }\n",
       "\n",
       "    .dataframe tbody tr th {\n",
       "        vertical-align: top;\n",
       "    }\n",
       "\n",
       "    .dataframe thead th {\n",
       "        text-align: right;\n",
       "    }\n",
       "</style>\n",
       "<table border=\"1\" class=\"dataframe\">\n",
       "  <thead>\n",
       "    <tr style=\"text-align: right;\">\n",
       "      <th></th>\n",
       "      <th>count</th>\n",
       "      <th>Max</th>\n",
       "      <th>Min</th>\n",
       "      <th>Mean</th>\n",
       "      <th>Std</th>\n",
       "      <th>label</th>\n",
       "    </tr>\n",
       "  </thead>\n",
       "  <tbody>\n",
       "    <tr>\n",
       "      <th>510</th>\n",
       "      <td>22</td>\n",
       "      <td>83103.0</td>\n",
       "      <td>9854.0</td>\n",
       "      <td>57874.692308</td>\n",
       "      <td>25684.714671</td>\n",
       "      <td>0.0</td>\n",
       "    </tr>\n",
       "    <tr>\n",
       "      <th>511</th>\n",
       "      <td>56</td>\n",
       "      <td>408810.0</td>\n",
       "      <td>104102.0</td>\n",
       "      <td>243754.493939</td>\n",
       "      <td>99928.886969</td>\n",
       "      <td>0.0</td>\n",
       "    </tr>\n",
       "    <tr>\n",
       "      <th>512</th>\n",
       "      <td>21</td>\n",
       "      <td>85787.0</td>\n",
       "      <td>784.0</td>\n",
       "      <td>49823.416667</td>\n",
       "      <td>24976.890564</td>\n",
       "      <td>0.0</td>\n",
       "    </tr>\n",
       "    <tr>\n",
       "      <th>513</th>\n",
       "      <td>12</td>\n",
       "      <td>0.0</td>\n",
       "      <td>0.0</td>\n",
       "      <td>0.000000</td>\n",
       "      <td>0.000000</td>\n",
       "      <td>0.0</td>\n",
       "    </tr>\n",
       "    <tr>\n",
       "      <th>514</th>\n",
       "      <td>19</td>\n",
       "      <td>81494.0</td>\n",
       "      <td>716.0</td>\n",
       "      <td>31796.111111</td>\n",
       "      <td>26238.713137</td>\n",
       "      <td>NaN</td>\n",
       "    </tr>\n",
       "  </tbody>\n",
       "</table>\n",
       "</div>"
      ],
      "text/plain": [
       "     count       Max       Min           Mean           Std  label\n",
       "510     22   83103.0    9854.0   57874.692308  25684.714671    0.0\n",
       "511     56  408810.0  104102.0  243754.493939  99928.886969    0.0\n",
       "512     21   85787.0     784.0   49823.416667  24976.890564    0.0\n",
       "513     12       0.0       0.0       0.000000      0.000000    0.0\n",
       "514     19   81494.0     716.0   31796.111111  26238.713137    NaN"
      ]
     },
     "execution_count": 23,
     "metadata": {},
     "output_type": "execute_result"
    }
   ],
   "source": [
    "trainData.tail()"
   ]
  },
  {
   "cell_type": "code",
   "execution_count": 24,
   "metadata": {},
   "outputs": [],
   "source": [
    "testData=df1.iloc[515:,:]"
   ]
  },
  {
   "cell_type": "code",
   "execution_count": 25,
   "metadata": {},
   "outputs": [],
   "source": [
    "testData=testData.drop('label',1)"
   ]
  },
  {
   "cell_type": "markdown",
   "metadata": {},
   "source": [
    "# Fare missing data "
   ]
  },
  {
   "cell_type": "code",
   "execution_count": 26,
   "metadata": {},
   "outputs": [
    {
     "name": "stderr",
     "output_type": "stream",
     "text": [
      "C:\\Users\\Elhmadany\\Anaconda3\\lib\\site-packages\\ipykernel_launcher.py:1: FutureWarning: 'argmax' is deprecated, use 'idxmax' instead. The behavior of 'argmax'\n",
      "will be corrected to return the positional maximum in the future.\n",
      "Use 'series.values.argmax' to get the position of the maximum now.\n",
      "  \"\"\"Entry point for launching an IPython kernel.\n",
      "C:\\Users\\Elhmadany\\Anaconda3\\lib\\site-packages\\pandas\\core\\frame.py:3790: SettingWithCopyWarning: \n",
      "A value is trying to be set on a copy of a slice from a DataFrame\n",
      "\n",
      "See the caveats in the documentation: http://pandas.pydata.org/pandas-docs/stable/indexing.html#indexing-view-versus-copy\n",
      "  downcast=downcast, **kwargs)\n"
     ]
    }
   ],
   "source": [
    "mod = trainData.label.value_counts().argmax()\n",
    "\n",
    "trainData.fillna(mod, inplace=True)"
   ]
  },
  {
   "cell_type": "code",
   "execution_count": 27,
   "metadata": {},
   "outputs": [
    {
     "data": {
      "text/html": [
       "<div>\n",
       "<style scoped>\n",
       "    .dataframe tbody tr th:only-of-type {\n",
       "        vertical-align: middle;\n",
       "    }\n",
       "\n",
       "    .dataframe tbody tr th {\n",
       "        vertical-align: top;\n",
       "    }\n",
       "\n",
       "    .dataframe thead th {\n",
       "        text-align: right;\n",
       "    }\n",
       "</style>\n",
       "<table border=\"1\" class=\"dataframe\">\n",
       "  <thead>\n",
       "    <tr style=\"text-align: right;\">\n",
       "      <th></th>\n",
       "      <th>count</th>\n",
       "      <th>Max</th>\n",
       "      <th>Min</th>\n",
       "      <th>Mean</th>\n",
       "      <th>Std</th>\n",
       "      <th>label</th>\n",
       "    </tr>\n",
       "  </thead>\n",
       "  <tbody>\n",
       "    <tr>\n",
       "      <th>0</th>\n",
       "      <td>714</td>\n",
       "      <td>337487.0</td>\n",
       "      <td>239483.0</td>\n",
       "      <td>277744.926587</td>\n",
       "      <td>28700.847946</td>\n",
       "      <td>0.0</td>\n",
       "    </tr>\n",
       "    <tr>\n",
       "      <th>1</th>\n",
       "      <td>3150</td>\n",
       "      <td>164622.0</td>\n",
       "      <td>14382.0</td>\n",
       "      <td>111378.048728</td>\n",
       "      <td>50784.202971</td>\n",
       "      <td>0.0</td>\n",
       "    </tr>\n",
       "    <tr>\n",
       "      <th>2</th>\n",
       "      <td>4135</td>\n",
       "      <td>320118.0</td>\n",
       "      <td>39471.0</td>\n",
       "      <td>162379.507240</td>\n",
       "      <td>76152.484138</td>\n",
       "      <td>0.0</td>\n",
       "    </tr>\n",
       "    <tr>\n",
       "      <th>3</th>\n",
       "      <td>2662</td>\n",
       "      <td>444373.0</td>\n",
       "      <td>48730.0</td>\n",
       "      <td>307344.936238</td>\n",
       "      <td>144359.255003</td>\n",
       "      <td>0.0</td>\n",
       "    </tr>\n",
       "    <tr>\n",
       "      <th>4</th>\n",
       "      <td>3439</td>\n",
       "      <td>423067.0</td>\n",
       "      <td>142979.0</td>\n",
       "      <td>326017.344951</td>\n",
       "      <td>94311.840536</td>\n",
       "      <td>0.0</td>\n",
       "    </tr>\n",
       "  </tbody>\n",
       "</table>\n",
       "</div>"
      ],
      "text/plain": [
       "   count       Max       Min           Mean            Std  label\n",
       "0    714  337487.0  239483.0  277744.926587   28700.847946    0.0\n",
       "1   3150  164622.0   14382.0  111378.048728   50784.202971    0.0\n",
       "2   4135  320118.0   39471.0  162379.507240   76152.484138    0.0\n",
       "3   2662  444373.0   48730.0  307344.936238  144359.255003    0.0\n",
       "4   3439  423067.0  142979.0  326017.344951   94311.840536    0.0"
      ]
     },
     "execution_count": 27,
     "metadata": {},
     "output_type": "execute_result"
    }
   ],
   "source": [
    "trainData.head()"
   ]
  },
  {
   "cell_type": "markdown",
   "metadata": {},
   "source": [
    "# Data Visualization"
   ]
  },
  {
   "cell_type": "code",
   "execution_count": 28,
   "metadata": {},
   "outputs": [
    {
     "data": {
      "text/plain": [
       "\"\\ndef bar_chart(feature):\\n    Pass = trainData[trainData['label']==1][feature].value_counts()\\n    Failure = trainData[trainData['label']==0][feature].value_counts()\\n    df = pd.DataFrame([Pass,Failure])\\n    df.index = ['Pass','Failure']\\n    df.plot(kind='bar',stacked=True, figsize=(10,5))\\n\""
      ]
     },
     "execution_count": 28,
     "metadata": {},
     "output_type": "execute_result"
    }
   ],
   "source": [
    "'''\n",
    "def bar_chart(feature):\n",
    "    Pass = trainData[trainData['label']==1][feature].value_counts()\n",
    "    Failure = trainData[trainData['label']==0][feature].value_counts()\n",
    "    df = pd.DataFrame([Pass,Failure])\n",
    "    df.index = ['Pass','Failure']\n",
    "    df.plot(kind='bar',stacked=True, figsize=(10,5))\n",
    "'''"
   ]
  },
  {
   "cell_type": "code",
   "execution_count": 29,
   "metadata": {},
   "outputs": [
    {
     "data": {
      "text/plain": [
       "<seaborn.axisgrid.FacetGrid at 0x1da07599898>"
      ]
     },
     "execution_count": 29,
     "metadata": {},
     "output_type": "execute_result"
    },
    {
     "data": {
      "image/png": "[encoded data removed]",
      "text/plain": [
       "<Figure size 432x216 with 2 Axes>"
      ]
     },
     "metadata": {
      "needs_background": "light"
     },
     "output_type": "display_data"
    }
   ],
   "source": [
    "g = sns.FacetGrid(trainData, col='label')\n",
    "g.map(plt.hist, 'Mean', bins=20)"
   ]
  },
  {
   "cell_type": "code",
   "execution_count": 30,
   "metadata": {},
   "outputs": [],
   "source": [
    "ytrain=trainData['label']"
   ]
  },
  {
   "cell_type": "code",
   "execution_count": 31,
   "metadata": {},
   "outputs": [],
   "source": [
    "X_train=trainData.drop('label',1)"
   ]
  },
  {
   "cell_type": "markdown",
   "metadata": {},
   "source": [
    "# Data Scaling"
   ]
  },
  {
   "cell_type": "code",
   "execution_count": 32,
   "metadata": {},
   "outputs": [],
   "source": [
    "sc_X = MinMaxScaler()\n",
    "X_train_sc = sc_X.fit_transform(X_train)\n",
    "X_test_sc = sc_X.transform(testData)"
   ]
  },
  {
   "cell_type": "code",
   "execution_count": 33,
   "metadata": {},
   "outputs": [
    {
     "data": {
      "text/plain": [
       "(468, 5)"
      ]
     },
     "execution_count": 33,
     "metadata": {},
     "output_type": "execute_result"
    }
   ],
   "source": [
    "X_test_sc.shape"
   ]
  },
  {
   "cell_type": "code",
   "execution_count": 34,
   "metadata": {},
   "outputs": [
    {
     "data": {
      "text/plain": [
       "(515, 5)"
      ]
     },
     "execution_count": 34,
     "metadata": {},
     "output_type": "execute_result"
    }
   ],
   "source": [
    "X_train_sc.shape"
   ]
  },
  {
   "cell_type": "code",
   "execution_count": 35,
   "metadata": {},
   "outputs": [],
   "source": [
    "X_train_sc = np.reshape(X_train_sc, (X_train_sc.shape[0], X_train_sc.shape[1], 1))"
   ]
  },
  {
   "cell_type": "code",
   "execution_count": 36,
   "metadata": {},
   "outputs": [],
   "source": [
    "X_test_sc=np.reshape(X_test_sc, (X_test_sc.shape[0], X_test_sc.shape[1], 1))"
   ]
  },
  {
   "cell_type": "code",
   "execution_count": 37,
   "metadata": {},
   "outputs": [
    {
     "data": {
      "text/plain": [
       "(515, 5, 1)"
      ]
     },
     "execution_count": 37,
     "metadata": {},
     "output_type": "execute_result"
    }
   ],
   "source": [
    "X_train_sc.shape"
   ]
  },
  {
   "cell_type": "code",
   "execution_count": 38,
   "metadata": {},
   "outputs": [
    {
     "data": {
      "text/plain": [
       "(468, 5, 1)"
      ]
     },
     "execution_count": 38,
     "metadata": {},
     "output_type": "execute_result"
    }
   ],
   "source": [
    "X_test_sc.shape"
   ]
  },
  {
   "cell_type": "code",
   "execution_count": 39,
   "metadata": {},
   "outputs": [
    {
     "data": {
      "text/plain": [
       "array([[0.01041237],\n",
       "       [0.37751237],\n",
       "       [0.89699719],\n",
       "       [0.50529843],\n",
       "       [0.13143037]])"
      ]
     },
     "execution_count": 39,
     "metadata": {},
     "output_type": "execute_result"
    }
   ],
   "source": [
    "X_train_sc[0]"
   ]
  },
  {
   "cell_type": "code",
   "execution_count": 40,
   "metadata": {},
   "outputs": [
    {
     "data": {
      "text/plain": [
       "(515, 5, 1)"
      ]
     },
     "execution_count": 40,
     "metadata": {},
     "output_type": "execute_result"
    }
   ],
   "source": [
    "X_train_sc.shape"
   ]
  },
  {
   "cell_type": "code",
   "execution_count": 41,
   "metadata": {},
   "outputs": [
    {
     "data": {
      "text/plain": [
       "(515,)"
      ]
     },
     "execution_count": 41,
     "metadata": {},
     "output_type": "execute_result"
    }
   ],
   "source": [
    "ytrain.shape"
   ]
  },
  {
   "cell_type": "code",
   "execution_count": 42,
   "metadata": {},
   "outputs": [],
   "source": [
    "ytrain= np.asarray(ytrain)"
   ]
  },
  {
   "cell_type": "markdown",
   "metadata": {},
   "source": [
    "## Build Model\n",
    "\n",
    "here I used LSTM Model because our data has time series,On the other hand I see this Model did not train very well and that becuse the data not balanced and has a high bias "
   ]
  },
  {
   "cell_type": "code",
   "execution_count": 43,
   "metadata": {},
   "outputs": [],
   "source": [
    "model =tf.keras.models.Sequential()\n",
    "model.add(tf.keras.layers.LSTM(32, input_shape = (X_train_sc.shape[1], 1)))\n",
    "model.add(tf.keras.layers.Dense(1, activation='sigmoid'))  #one output\n",
    "model.compile(loss='binary_crossentropy',metrics=['accuracy'])\n"
   ]
  },
  {
   "cell_type": "code",
   "execution_count": 44,
   "metadata": {},
   "outputs": [
    {
     "name": "stdout",
     "output_type": "stream",
     "text": [
      "Train on 515 samples\n",
      "Epoch 1/50\n",
      "515/515 [==============================] - 3s 6ms/sample - loss: 0.3670 - accuracy: 0.9417\n",
      "Epoch 2/50\n",
      "515/515 [==============================] - 1s 983us/sample - loss: 0.2044 - accuracy: 0.9515\n",
      "Epoch 3/50\n",
      "515/515 [==============================] - 1s 971us/sample - loss: 0.2004 - accuracy: 0.9515\n",
      "Epoch 4/50\n",
      "515/515 [==============================] - 1s 979us/sample - loss: 0.2014 - accuracy: 0.9515\n",
      "Epoch 5/50\n",
      "515/515 [==============================] - 0s 968us/sample - loss: 0.2012 - accuracy: 0.9515\n",
      "Epoch 6/50\n",
      "515/515 [==============================] - 0s 959us/sample - loss: 0.2006 - accuracy: 0.9515\n",
      "Epoch 7/50\n",
      "515/515 [==============================] - 0s 958us/sample - loss: 0.2011 - accuracy: 0.9515\n",
      "Epoch 8/50\n",
      "515/515 [==============================] - 0s 960us/sample - loss: 0.1976 - accuracy: 0.9515\n",
      "Epoch 9/50\n",
      "515/515 [==============================] - 0s 960us/sample - loss: 0.1987 - accuracy: 0.9515\n",
      "Epoch 10/50\n",
      "515/515 [==============================] - 1s 1ms/sample - loss: 0.2000 - accuracy: 0.9515\n",
      "Epoch 11/50\n",
      "515/515 [==============================] - 1s 987us/sample - loss: 0.1994 - accuracy: 0.9515\n",
      "Epoch 12/50\n",
      "515/515 [==============================] - 0s 968us/sample - loss: 0.1971 - accuracy: 0.9515\n",
      "Epoch 13/50\n",
      "515/515 [==============================] - 1s 989us/sample - loss: 0.1994 - accuracy: 0.9515\n",
      "Epoch 14/50\n",
      "515/515 [==============================] - 0s 950us/sample - loss: 0.1990 - accuracy: 0.9515\n",
      "Epoch 15/50\n",
      "515/515 [==============================] - 0s 970us/sample - loss: 0.1984 - accuracy: 0.9515\n",
      "Epoch 16/50\n",
      "515/515 [==============================] - 0s 948us/sample - loss: 0.1986 - accuracy: 0.9515\n",
      "Epoch 17/50\n",
      "515/515 [==============================] - 0s 944us/sample - loss: 0.1994 - accuracy: 0.9515\n",
      "Epoch 18/50\n",
      "515/515 [==============================] - 1s 981us/sample - loss: 0.1970 - accuracy: 0.9515\n",
      "Epoch 19/50\n",
      "515/515 [==============================] - 1s 979us/sample - loss: 0.1991 - accuracy: 0.9515\n",
      "Epoch 20/50\n",
      "515/515 [==============================] - 1s 977us/sample - loss: 0.1988 - accuracy: 0.9515\n",
      "Epoch 21/50\n",
      "515/515 [==============================] - 0s 935us/sample - loss: 0.1971 - accuracy: 0.9515\n",
      "Epoch 22/50\n",
      "515/515 [==============================] - 0s 952us/sample - loss: 0.2001 - accuracy: 0.9515\n",
      "Epoch 23/50\n",
      "515/515 [==============================] - 0s 958us/sample - loss: 0.1949 - accuracy: 0.9515\n",
      "Epoch 24/50\n",
      "515/515 [==============================] - 0s 956us/sample - loss: 0.1986 - accuracy: 0.9515\n",
      "Epoch 25/50\n",
      "515/515 [==============================] - 0s 958us/sample - loss: 0.1981 - accuracy: 0.9515\n",
      "Epoch 26/50\n",
      "515/515 [==============================] - 1s 1ms/sample - loss: 0.1987 - accuracy: 0.9515\n",
      "Epoch 27/50\n",
      "515/515 [==============================] - 0s 950us/sample - loss: 0.1964 - accuracy: 0.9515\n",
      "Epoch 28/50\n",
      "515/515 [==============================] - 0s 950us/sample - loss: 0.1926 - accuracy: 0.9515\n",
      "Epoch 29/50\n",
      "515/515 [==============================] - 0s 952us/sample - loss: 0.1994 - accuracy: 0.9515\n",
      "Epoch 30/50\n",
      "515/515 [==============================] - 0s 960us/sample - loss: 0.1982 - accuracy: 0.9515\n",
      "Epoch 31/50\n",
      "515/515 [==============================] - 0s 946us/sample - loss: 0.1965 - accuracy: 0.9515\n",
      "Epoch 32/50\n",
      "515/515 [==============================] - 0s 944us/sample - loss: 0.1982 - accuracy: 0.9515\n",
      "Epoch 33/50\n",
      "515/515 [==============================] - 0s 938us/sample - loss: 0.1986 - accuracy: 0.9515\n",
      "Epoch 34/50\n",
      "515/515 [==============================] - 0s 944us/sample - loss: 0.1958 - accuracy: 0.9515\n",
      "Epoch 35/50\n",
      "515/515 [==============================] - 0s 940us/sample - loss: 0.1952 - accuracy: 0.9515\n",
      "Epoch 36/50\n",
      "515/515 [==============================] - 0s 954us/sample - loss: 0.1983 - accuracy: 0.9515\n",
      "Epoch 37/50\n",
      "515/515 [==============================] - 0s 940us/sample - loss: 0.1967 - accuracy: 0.9515\n",
      "Epoch 38/50\n",
      "515/515 [==============================] - 0s 942us/sample - loss: 0.1979 - accuracy: 0.9515\n",
      "Epoch 39/50\n",
      "515/515 [==============================] - 1s 991us/sample - loss: 0.1972 - accuracy: 0.9515\n",
      "Epoch 40/50\n",
      "515/515 [==============================] - 0s 962us/sample - loss: 0.1982 - accuracy: 0.9515\n",
      "Epoch 41/50\n",
      "515/515 [==============================] - 0s 960us/sample - loss: 0.1974 - accuracy: 0.9515\n",
      "Epoch 42/50\n",
      "515/515 [==============================] - 1s 997us/sample - loss: 0.1968 - accuracy: 0.9515\n",
      "Epoch 43/50\n",
      "515/515 [==============================] - 1s 1ms/sample - loss: 0.1964 - accuracy: 0.9515\n",
      "Epoch 44/50\n",
      "515/515 [==============================] - 1s 992us/sample - loss: 0.1970 - accuracy: 0.9515\n",
      "Epoch 45/50\n",
      "515/515 [==============================] - 1s 981us/sample - loss: 0.1960 - accuracy: 0.9515\n",
      "Epoch 46/50\n",
      "515/515 [==============================] - 0s 961us/sample - loss: 0.1967 - accuracy: 0.9515\n",
      "Epoch 47/50\n",
      "515/515 [==============================] - 0s 961us/sample - loss: 0.1955 - accuracy: 0.9515\n",
      "Epoch 48/50\n",
      "515/515 [==============================] - 1s 1000us/sample - loss: 0.1981 - accuracy: 0.9515\n",
      "Epoch 49/50\n",
      "515/515 [==============================] - 1s 1ms/sample - loss: 0.1939 - accuracy: 0.9515\n",
      "Epoch 50/50\n",
      "515/515 [==============================] - 1s 1ms/sample - loss: 0.1994 - accuracy: 0.9515\n"
     ]
    },
    {
     "data": {
      "text/plain": [
       "<tensorflow.python.keras.callbacks.History at 0x1da0809e438>"
      ]
     },
     "execution_count": 44,
     "metadata": {},
     "output_type": "execute_result"
    }
   ],
   "source": [
    "model.fit(X_train_sc, ytrain, epochs = 50,batch_size = 5)"
   ]
  },
  {
   "cell_type": "code",
   "execution_count": 48,
   "metadata": {},
   "outputs": [],
   "source": [
    "model.save('lstm_model.h5')"
   ]
  },
  {
   "cell_type": "code",
   "execution_count": 49,
   "metadata": {},
   "outputs": [],
   "source": [
    "\n",
    "model = tf.keras.models.load_model('lstm_model.h5')\n",
    "# make predictions\n",
    "ypre = model.predict(X_test_sc, verbose=0)\n"
   ]
  },
  {
   "cell_type": "code",
   "execution_count": 50,
   "metadata": {},
   "outputs": [
    {
     "data": {
      "text/plain": [
       "array([[0.02797323],\n",
       "       [0.03546816],\n",
       "       [0.03555632],\n",
       "       [0.04221943],\n",
       "       [0.03513852],\n",
       "       [0.03120089],\n",
       "       [0.03133008],\n",
       "       [0.03091034],\n",
       "       [0.03077126],\n",
       "       [0.04095697],\n",
       "       [0.03491288],\n",
       "       [0.03383341],\n",
       "       [0.05394095],\n",
       "       [0.04613864],\n",
       "       [0.06250355],\n",
       "       [0.03480232],\n",
       "       [0.03124869],\n",
       "       [0.03116173],\n",
       "       [0.03098211],\n",
       "       [0.04116374],\n",
       "       [0.035164  ],\n",
       "       [0.03296033],\n",
       "       [0.03114432],\n",
       "       [0.05219796],\n",
       "       [0.03426352],\n",
       "       [0.04881176],\n",
       "       [0.0671865 ],\n",
       "       [0.03786713],\n",
       "       [0.03387094],\n",
       "       [0.03731212],\n",
       "       [0.04629597],\n",
       "       [0.03394634],\n",
       "       [0.03302661],\n",
       "       [0.03923458],\n",
       "       [0.03181124],\n",
       "       [0.03967768],\n",
       "       [0.03433898],\n",
       "       [0.03138438],\n",
       "       [0.0309329 ],\n",
       "       [0.03069574],\n",
       "       [0.03132769],\n",
       "       [0.03115988],\n",
       "       [0.03497833],\n",
       "       [0.03402144],\n",
       "       [0.04456091],\n",
       "       [0.04082623],\n",
       "       [0.04042953],\n",
       "       [0.0410158 ],\n",
       "       [0.03387645],\n",
       "       [0.0345768 ],\n",
       "       [0.03587207],\n",
       "       [0.03241369],\n",
       "       [0.03335097],\n",
       "       [0.04691216],\n",
       "       [0.03455582],\n",
       "       [0.0321652 ],\n",
       "       [0.03519595],\n",
       "       [0.04221591],\n",
       "       [0.03117904],\n",
       "       [0.03141516],\n",
       "       [0.04695699],\n",
       "       [0.04530504],\n",
       "       [0.06418556],\n",
       "       [0.03138864],\n",
       "       [0.04292855],\n",
       "       [0.03089345],\n",
       "       [0.0315319 ],\n",
       "       [0.03705737],\n",
       "       [0.04044008],\n",
       "       [0.0450812 ],\n",
       "       [0.03093907],\n",
       "       [0.03118634],\n",
       "       [0.03681341],\n",
       "       [0.04587081],\n",
       "       [0.02797136],\n",
       "       [0.04387069],\n",
       "       [0.03281599],\n",
       "       [0.04184759],\n",
       "       [0.02929863],\n",
       "       [0.03618026],\n",
       "       [0.0435203 ],\n",
       "       [0.03896412],\n",
       "       [0.02797097],\n",
       "       [0.04424363],\n",
       "       [0.03287175],\n",
       "       [0.04174212],\n",
       "       [0.03090808],\n",
       "       [0.04482415],\n",
       "       [0.05370674],\n",
       "       [0.03142828],\n",
       "       [0.04061761],\n",
       "       [0.04723522],\n",
       "       [0.04679948],\n",
       "       [0.05396399],\n",
       "       [0.05200195],\n",
       "       [0.06094885],\n",
       "       [0.06079966],\n",
       "       [0.03508842],\n",
       "       [0.03109446],\n",
       "       [0.03098503],\n",
       "       [0.04197526],\n",
       "       [0.04444879],\n",
       "       [0.03687388],\n",
       "       [0.05746272],\n",
       "       [0.03465974],\n",
       "       [0.03117502],\n",
       "       [0.04385296],\n",
       "       [0.04341832],\n",
       "       [0.0308722 ],\n",
       "       [0.05730021],\n",
       "       [0.03085995],\n",
       "       [0.03624776],\n",
       "       [0.03224802],\n",
       "       [0.04875684],\n",
       "       [0.039794  ],\n",
       "       [0.03969622],\n",
       "       [0.04043925],\n",
       "       [0.03160268],\n",
       "       [0.03448465],\n",
       "       [0.04240346],\n",
       "       [0.0311226 ],\n",
       "       [0.04639256],\n",
       "       [0.03112561],\n",
       "       [0.03091913],\n",
       "       [0.0417949 ],\n",
       "       [0.04744837],\n",
       "       [0.05179596],\n",
       "       [0.04861468],\n",
       "       [0.03587756],\n",
       "       [0.0350157 ],\n",
       "       [0.04911026],\n",
       "       [0.03099391],\n",
       "       [0.03767782],\n",
       "       [0.03126979],\n",
       "       [0.03823778],\n",
       "       [0.03096738],\n",
       "       [0.04046634],\n",
       "       [0.03106788],\n",
       "       [0.03515923],\n",
       "       [0.04907039],\n",
       "       [0.0443702 ],\n",
       "       [0.05063426],\n",
       "       [0.06701255],\n",
       "       [0.06178164],\n",
       "       [0.04825741],\n",
       "       [0.04510707],\n",
       "       [0.04616144],\n",
       "       [0.05059734],\n",
       "       [0.05011818],\n",
       "       [0.04650548],\n",
       "       [0.04767627],\n",
       "       [0.04355261],\n",
       "       [0.0342415 ],\n",
       "       [0.03447035],\n",
       "       [0.04540843],\n",
       "       [0.03159216],\n",
       "       [0.0296984 ],\n",
       "       [0.03087699],\n",
       "       [0.0345293 ],\n",
       "       [0.03297016],\n",
       "       [0.02797112],\n",
       "       [0.02797323],\n",
       "       [0.02797136],\n",
       "       [0.03348333],\n",
       "       [0.03922227],\n",
       "       [0.04524389],\n",
       "       [0.04261771],\n",
       "       [0.03085414],\n",
       "       [0.03551078],\n",
       "       [0.02797136],\n",
       "       [0.02797097],\n",
       "       [0.02797136],\n",
       "       [0.04139933],\n",
       "       [0.05781153],\n",
       "       [0.05723095],\n",
       "       [0.03858465],\n",
       "       [0.03234512],\n",
       "       [0.04545054],\n",
       "       [0.03869283],\n",
       "       [0.03650901],\n",
       "       [0.03136092],\n",
       "       [0.03081158],\n",
       "       [0.03886002],\n",
       "       [0.03106299],\n",
       "       [0.03139105],\n",
       "       [0.0316768 ],\n",
       "       [0.03112373],\n",
       "       [0.0337984 ],\n",
       "       [0.03032273],\n",
       "       [0.030743  ],\n",
       "       [0.03098223],\n",
       "       [0.03816253],\n",
       "       [0.03160453],\n",
       "       [0.03434804],\n",
       "       [0.03120199],\n",
       "       [0.03145286],\n",
       "       [0.03191924],\n",
       "       [0.03338018],\n",
       "       [0.03989774],\n",
       "       [0.03116676],\n",
       "       [0.03364131],\n",
       "       [0.04341576],\n",
       "       [0.03083012],\n",
       "       [0.03183508],\n",
       "       [0.03448886],\n",
       "       [0.03247827],\n",
       "       [0.03141838],\n",
       "       [0.03508416],\n",
       "       [0.04113871],\n",
       "       [0.0360398 ],\n",
       "       [0.04658359],\n",
       "       [0.03734705],\n",
       "       [0.04477218],\n",
       "       [0.03508943],\n",
       "       [0.03107372],\n",
       "       [0.03135699],\n",
       "       [0.03804225],\n",
       "       [0.04114741],\n",
       "       [0.034421  ],\n",
       "       [0.03691316],\n",
       "       [0.03966004],\n",
       "       [0.03488857],\n",
       "       [0.03684148],\n",
       "       [0.03699127],\n",
       "       [0.03281131],\n",
       "       [0.04072073],\n",
       "       [0.04338217],\n",
       "       [0.04229853],\n",
       "       [0.03890276],\n",
       "       [0.05323821],\n",
       "       [0.04770985],\n",
       "       [0.06982937],\n",
       "       [0.04524666],\n",
       "       [0.05543017],\n",
       "       [0.05604601],\n",
       "       [0.03803217],\n",
       "       [0.04171619],\n",
       "       [0.04319546],\n",
       "       [0.04686952],\n",
       "       [0.03132105],\n",
       "       [0.03960991],\n",
       "       [0.0400103 ],\n",
       "       [0.03766748],\n",
       "       [0.03706732],\n",
       "       [0.03687006],\n",
       "       [0.03647879],\n",
       "       [0.03986156],\n",
       "       [0.03831014],\n",
       "       [0.03488082],\n",
       "       [0.04594675],\n",
       "       [0.0409537 ],\n",
       "       [0.04533523],\n",
       "       [0.04385647],\n",
       "       [0.03818077],\n",
       "       [0.03616199],\n",
       "       [0.03950873],\n",
       "       [0.03947866],\n",
       "       [0.03913692],\n",
       "       [0.03830954],\n",
       "       [0.03908068],\n",
       "       [0.04516581],\n",
       "       [0.04099357],\n",
       "       [0.03686255],\n",
       "       [0.03920159],\n",
       "       [0.03718272],\n",
       "       [0.04039332],\n",
       "       [0.03808415],\n",
       "       [0.04950231],\n",
       "       [0.04768902],\n",
       "       [0.05477437],\n",
       "       [0.04858592],\n",
       "       [0.05927026],\n",
       "       [0.04230469],\n",
       "       [0.06507635],\n",
       "       [0.07091624],\n",
       "       [0.06075171],\n",
       "       [0.0401102 ],\n",
       "       [0.05833372],\n",
       "       [0.04745242],\n",
       "       [0.04040205],\n",
       "       [0.03525251],\n",
       "       [0.05553931],\n",
       "       [0.04452696],\n",
       "       [0.05722275],\n",
       "       [0.06612542],\n",
       "       [0.05274624],\n",
       "       [0.03366265],\n",
       "       [0.03336644],\n",
       "       [0.03392282],\n",
       "       [0.03095269],\n",
       "       [0.0335114 ],\n",
       "       [0.03075385],\n",
       "       [0.03647873],\n",
       "       [0.03592557],\n",
       "       [0.03810474],\n",
       "       [0.03767449],\n",
       "       [0.03451726],\n",
       "       [0.03914249],\n",
       "       [0.04503995],\n",
       "       [0.03658825],\n",
       "       [0.03493315],\n",
       "       [0.03546855],\n",
       "       [0.04018375],\n",
       "       [0.03453445],\n",
       "       [0.03493279],\n",
       "       [0.04406676],\n",
       "       [0.0390864 ],\n",
       "       [0.03424314],\n",
       "       [0.04710573],\n",
       "       [0.05242524],\n",
       "       [0.05035371],\n",
       "       [0.03823444],\n",
       "       [0.04406279],\n",
       "       [0.04871115],\n",
       "       [0.04138613],\n",
       "       [0.03101605],\n",
       "       [0.05085593],\n",
       "       [0.04355466],\n",
       "       [0.05170381],\n",
       "       [0.05541801],\n",
       "       [0.05092773],\n",
       "       [0.03993031],\n",
       "       [0.04668728],\n",
       "       [0.04640964],\n",
       "       [0.04153654],\n",
       "       [0.06256929],\n",
       "       [0.042077  ],\n",
       "       [0.05427873],\n",
       "       [0.05193686],\n",
       "       [0.05593356],\n",
       "       [0.04112172],\n",
       "       [0.04556409],\n",
       "       [0.0484466 ],\n",
       "       [0.04315734],\n",
       "       [0.03302372],\n",
       "       [0.04820526],\n",
       "       [0.04786858],\n",
       "       [0.04045162],\n",
       "       [0.04544449],\n",
       "       [0.03442693],\n",
       "       [0.03678888],\n",
       "       [0.03936169],\n",
       "       [0.03616503],\n",
       "       [0.03574261],\n",
       "       [0.04254425],\n",
       "       [0.03588697],\n",
       "       [0.03501511],\n",
       "       [0.03976148],\n",
       "       [0.04662049],\n",
       "       [0.03532633],\n",
       "       [0.03865346],\n",
       "       [0.04010031],\n",
       "       [0.0478003 ],\n",
       "       [0.0351209 ],\n",
       "       [0.04056022],\n",
       "       [0.04448509],\n",
       "       [0.03433496],\n",
       "       [0.03437698],\n",
       "       [0.03641629],\n",
       "       [0.03995991],\n",
       "       [0.0541676 ],\n",
       "       [0.04118922],\n",
       "       [0.04107311],\n",
       "       [0.03500724],\n",
       "       [0.03474063],\n",
       "       [0.03487664],\n",
       "       [0.03999367],\n",
       "       [0.03805041],\n",
       "       [0.04208466],\n",
       "       [0.04519817],\n",
       "       [0.04298291],\n",
       "       [0.0310747 ],\n",
       "       [0.03650573],\n",
       "       [0.03386107],\n",
       "       [0.03355598],\n",
       "       [0.04075956],\n",
       "       [0.04490101],\n",
       "       [0.04123119],\n",
       "       [0.03458256],\n",
       "       [0.03456837],\n",
       "       [0.03647521],\n",
       "       [0.03994736],\n",
       "       [0.03624752],\n",
       "       [0.03269562],\n",
       "       [0.04152125],\n",
       "       [0.05318063],\n",
       "       [0.04133478],\n",
       "       [0.03585184],\n",
       "       [0.03527215],\n",
       "       [0.03566116],\n",
       "       [0.05539578],\n",
       "       [0.03783613],\n",
       "       [0.03481448],\n",
       "       [0.03938287],\n",
       "       [0.03834116],\n",
       "       [0.03699365],\n",
       "       [0.03498951],\n",
       "       [0.03188738],\n",
       "       [0.03456768],\n",
       "       [0.03337738],\n",
       "       [0.04036739],\n",
       "       [0.03995675],\n",
       "       [0.041722  ],\n",
       "       [0.03550312],\n",
       "       [0.03705963],\n",
       "       [0.04023492],\n",
       "       [0.04114211],\n",
       "       [0.0407573 ],\n",
       "       [0.04873887],\n",
       "       [0.04070091],\n",
       "       [0.0344893 ],\n",
       "       [0.03358698],\n",
       "       [0.03385538],\n",
       "       [0.03911677],\n",
       "       [0.03346261],\n",
       "       [0.03439754],\n",
       "       [0.05589101],\n",
       "       [0.04149896],\n",
       "       [0.03551161],\n",
       "       [0.03620782],\n",
       "       [0.03767666],\n",
       "       [0.04609463],\n",
       "       [0.05252039],\n",
       "       [0.04370379],\n",
       "       [0.0351271 ],\n",
       "       [0.03961885],\n",
       "       [0.0461601 ],\n",
       "       [0.04727978],\n",
       "       [0.03937462],\n",
       "       [0.04001823],\n",
       "       [0.03953004],\n",
       "       [0.04426831],\n",
       "       [0.03856862],\n",
       "       [0.03392339],\n",
       "       [0.04372969],\n",
       "       [0.05270731],\n",
       "       [0.05074334],\n",
       "       [0.05599269],\n",
       "       [0.04287443],\n",
       "       [0.03451374],\n",
       "       [0.03514853],\n",
       "       [0.04064336],\n",
       "       [0.03390723],\n",
       "       [0.03829247],\n",
       "       [0.03898665],\n",
       "       [0.05494842],\n",
       "       [0.05254576],\n",
       "       [0.04401883],\n",
       "       [0.04585981],\n",
       "       [0.05255142],\n",
       "       [0.05282351],\n",
       "       [0.04014122],\n",
       "       [0.05923307],\n",
       "       [0.04126209],\n",
       "       [0.04835519],\n",
       "       [0.03628895],\n",
       "       [0.05329457],\n",
       "       [0.06050238],\n",
       "       [0.03590375],\n",
       "       [0.03661025],\n",
       "       [0.04617926],\n",
       "       [0.04418489],\n",
       "       [0.04297563],\n",
       "       [0.05212036],\n",
       "       [0.04306868],\n",
       "       [0.03828216],\n",
       "       [0.05960929],\n",
       "       [0.04258725]], dtype=float32)"
      ]
     },
     "execution_count": 50,
     "metadata": {},
     "output_type": "execute_result"
    }
   ],
   "source": [
    "ypre"
   ]
  },
  {
   "cell_type": "code",
   "execution_count": 51,
   "metadata": {},
   "outputs": [],
   "source": [
    "DateTest=df[['date']]"
   ]
  },
  {
   "cell_type": "code",
   "execution_count": 52,
   "metadata": {},
   "outputs": [],
   "source": [
    "DateTest_sub=DateTest.iloc[515:,:]"
   ]
  },
  {
   "cell_type": "code",
   "execution_count": 53,
   "metadata": {},
   "outputs": [
    {
     "data": {
      "text/plain": [
       "((468, 1), (468, 1))"
      ]
     },
     "execution_count": 53,
     "metadata": {},
     "output_type": "execute_result"
    }
   ],
   "source": [
    "DateTest_sub.shape,ypre.shape"
   ]
  },
  {
   "cell_type": "code",
   "execution_count": 54,
   "metadata": {},
   "outputs": [],
   "source": [
    "DateTest_sub=DateTest_sub.reset_index()"
   ]
  },
  {
   "cell_type": "code",
   "execution_count": null,
   "metadata": {},
   "outputs": [],
   "source": [
    "\n"
   ]
  },
  {
   "cell_type": "markdown",
   "metadata": {},
   "source": [
    "# Export Submission file"
   ]
  },
  {
   "cell_type": "code",
   "execution_count": 85,
   "metadata": {},
   "outputs": [],
   "source": [
    "ypre =pd.DataFrame(ypre,columns=['probability'])\n",
    "\n",
    "Task1_submission = pd.concat([DateTest_sub['date'],ypre],axis=1)\n",
    "Task1_submission.to_csv('Task1_submission.csv',index=False)"
   ]
  },
  {
   "cell_type": "code",
   "execution_count": null,
   "metadata": {},
   "outputs": [],
   "source": []
  },
  {
   "cell_type": "code",
   "execution_count": null,
   "metadata": {},
   "outputs": [],
   "source": []
  },
  {
   "cell_type": "code",
   "execution_count": null,
   "metadata": {},
   "outputs": [],
   "source": [
    "\n",
    "\n",
    "\n"
   ]
  },
  {
   "cell_type": "code",
   "execution_count": null,
   "metadata": {},
   "outputs": [],
   "source": []
  },
  {
   "cell_type": "code",
   "execution_count": null,
   "metadata": {},
   "outputs": [],
   "source": []
  },
  {
   "cell_type": "code",
   "execution_count": null,
   "metadata": {},
   "outputs": [],
   "source": []
  },
  {
   "cell_type": "code",
   "execution_count": null,
   "metadata": {},
   "outputs": [],
   "source": []
  },
  {
   "cell_type": "code",
   "execution_count": null,
   "metadata": {},
   "outputs": [],
   "source": []
  },
  {
   "cell_type": "code",
   "execution_count": null,
   "metadata": {},
   "outputs": [],
   "source": []
  },
  {
   "cell_type": "code",
   "execution_count": null,
   "metadata": {},
   "outputs": [],
   "source": []
  },
  {
   "cell_type": "code",
   "execution_count": null,
   "metadata": {},
   "outputs": [],
   "source": [
    "\n",
    "\n"
   ]
  },
  {
   "cell_type": "code",
   "execution_count": null,
   "metadata": {},
   "outputs": [],
   "source": [
    "\n"
   ]
  },
  {
   "cell_type": "code",
   "execution_count": null,
   "metadata": {},
   "outputs": [],
   "source": []
  },
  {
   "cell_type": "code",
   "execution_count": null,
   "metadata": {},
   "outputs": [],
   "source": []
  },
  {
   "cell_type": "code",
   "execution_count": null,
   "metadata": {},
   "outputs": [],
   "source": []
  },
  {
   "cell_type": "code",
   "execution_count": null,
   "metadata": {},
   "outputs": [],
   "source": []
  },
  {
   "cell_type": "code",
   "execution_count": null,
   "metadata": {},
   "outputs": [],
   "source": []
  },
  {
   "cell_type": "code",
   "execution_count": null,
   "metadata": {},
   "outputs": [],
   "source": [
    "\n"
   ]
  },
  {
   "cell_type": "code",
   "execution_count": null,
   "metadata": {},
   "outputs": [],
   "source": []
  },
  {
   "cell_type": "code",
   "execution_count": null,
   "metadata": {},
   "outputs": [],
   "source": [
    "\n"
   ]
  },
  {
   "cell_type": "code",
   "execution_count": null,
   "metadata": {},
   "outputs": [],
   "source": []
  },
  {
   "cell_type": "code",
   "execution_count": null,
   "metadata": {},
   "outputs": [],
   "source": []
  },
  {
   "cell_type": "code",
   "execution_count": null,
   "metadata": {},
   "outputs": [],
   "source": []
  },
  {
   "cell_type": "code",
   "execution_count": null,
   "metadata": {},
   "outputs": [],
   "source": []
  },
  {
   "cell_type": "markdown",
   "metadata": {},
   "source": []
  },
  {
   "cell_type": "code",
   "execution_count": null,
   "metadata": {},
   "outputs": [],
   "source": []
  },
  {
   "cell_type": "code",
   "execution_count": null,
   "metadata": {},
   "outputs": [],
   "source": []
  },
  {
   "cell_type": "code",
   "execution_count": null,
   "metadata": {},
   "outputs": [],
   "source": []
  },
  {
   "cell_type": "code",
   "execution_count": null,
   "metadata": {},
   "outputs": [],
   "source": []
  },
  {
   "cell_type": "code",
   "execution_count": null,
   "metadata": {},
   "outputs": [],
   "source": []
  },
  {
   "cell_type": "code",
   "execution_count": null,
   "metadata": {},
   "outputs": [],
   "source": [
    "\n"
   ]
  },
  {
   "cell_type": "code",
   "execution_count": null,
   "metadata": {},
   "outputs": [],
   "source": [
    "\n"
   ]
  },
  {
   "cell_type": "code",
   "execution_count": null,
   "metadata": {},
   "outputs": [],
   "source": [
    "\n",
    "\n"
   ]
  },
  {
   "cell_type": "code",
   "execution_count": null,
   "metadata": {},
   "outputs": [],
   "source": [
    "\n"
   ]
  },
  {
   "cell_type": "code",
   "execution_count": null,
   "metadata": {},
   "outputs": [],
   "source": []
  },
  {
   "cell_type": "code",
   "execution_count": null,
   "metadata": {},
   "outputs": [],
   "source": []
  },
  {
   "cell_type": "code",
   "execution_count": null,
   "metadata": {},
   "outputs": [],
   "source": []
  },
  {
   "cell_type": "code",
   "execution_count": null,
   "metadata": {},
   "outputs": [],
   "source": []
  },
  {
   "cell_type": "code",
   "execution_count": null,
   "metadata": {},
   "outputs": [],
   "source": []
  },
  {
   "cell_type": "code",
   "execution_count": null,
   "metadata": {},
   "outputs": [],
   "source": []
  },
  {
   "cell_type": "code",
   "execution_count": null,
   "metadata": {},
   "outputs": [],
   "source": []
  },
  {
   "cell_type": "code",
   "execution_count": null,
   "metadata": {},
   "outputs": [],
   "source": []
  },
  {
   "cell_type": "code",
   "execution_count": null,
   "metadata": {},
   "outputs": [],
   "source": []
  },
  {
   "cell_type": "code",
   "execution_count": null,
   "metadata": {},
   "outputs": [],
   "source": []
  },
  {
   "cell_type": "code",
   "execution_count": null,
   "metadata": {},
   "outputs": [],
   "source": []
  },
  {
   "cell_type": "code",
   "execution_count": null,
   "metadata": {},
   "outputs": [],
   "source": []
  }
 ],
 "metadata": {
  "kernelspec": {
   "display_name": "Python 3",
   "language": "python",
   "name": "python3"
  },
  "language_info": {
   "codemirror_mode": {
    "name": "ipython",
    "version": 3
   },
   "file_extension": ".py",
   "mimetype": "text/x-python",
   "name": "python",
   "nbconvert_exporter": "python",
   "pygments_lexer": "ipython3",
   "version": "3.7.0"
  }
 },
 "nbformat": 4,
 "nbformat_minor": 2
}
